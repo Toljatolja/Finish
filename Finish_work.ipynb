{
  "nbformat": 4,
  "nbformat_minor": 0,
  "metadata": {
    "colab": {
      "provenance": [],
      "authorship_tag": "ABX9TyPvHj6Oq4Q76FoeJaMNvylV",
      "include_colab_link": true
    },
    "kernelspec": {
      "name": "python3",
      "display_name": "Python 3"
    },
    "language_info": {
      "name": "python"
    }
  },
  "cells": [
    {
      "cell_type": "markdown",
      "metadata": {
        "id": "view-in-github",
        "colab_type": "text"
      },
      "source": [
        "<a href=\"https://colab.research.google.com/github/Toljatolja/Finish/blob/main/Finish_work.ipynb\" target=\"_parent\"><img src=\"https://colab.research.google.com/assets/colab-badge.svg\" alt=\"Open In Colab\"/></a>"
      ]
    },
    {
      "cell_type": "code",
      "execution_count": null,
      "metadata": {
        "id": "I3XqVA423qvu"
      },
      "outputs": [],
      "source": [
        "# TODO собрать установку всех необходимых модулей в одном месте\n",
        "!pip install geopandas mapclassify  # mapclassify необходим для визуализации\n",
        "!pip install geopandas\n",
        "!pip install osmnx  # устанавливаем модуль osmnx\n",
        "!pip install keplergl  # для визуализации"
      ]
    },
    {
      "cell_type": "code",
      "source": [
        "# TODO собрать импорты всех модулей в одном месте\n",
        "import numpy as np\n",
        "import pandas as pd\n",
        "import osmnx as ox\n",
        "import geopandas as gpd\n",
        "from keplergl import KeplerGl"
      ],
      "metadata": {
        "id": "vLubkPgv7ybM"
      },
      "execution_count": null,
      "outputs": []
    },
    {
      "cell_type": "code",
      "source": [
        "TILES = \"CartoDB positron\"  # Название подложки для карт\n",
        "TERRITORY_NAME = 'Московский район, Санкт-Петербург'  # название территории для которой будут строиться слои\n",
        "STREETS_FILE_URL = \"https://raw.githubusercontent.com/aeksei/PythonUrbanITMO2023/main/geojson_layers/streets.geojson\"  # ссылка на слой с улицами\n",
        "KGIOP_FILE_URL = \"https://raw.githubusercontent.com/aeksei/PythonUrbanITMO2023/main/geojson_layers/architectural_structures.geojson\"# ссылка на слой с объектами культурного наследия"
      ],
      "metadata": {
        "id": "_YrGBNPN9JXs"
      },
      "execution_count": null,
      "outputs": []
    },
    {
      "cell_type": "code",
      "source": [
        "district = ox.geocode_to_gdf(TERRITORY_NAME)\n",
        "district"
      ],
      "metadata": {
        "id": "JPyWQkqP98kE"
      },
      "execution_count": null,
      "outputs": []
    },
    {
      "cell_type": "code",
      "source": [
        "district.explore()"
      ],
      "metadata": {
        "id": "ioVzFwrdJcHP"
      },
      "execution_count": null,
      "outputs": []
    },
    {
      "cell_type": "code",
      "source": [
        "osm_id = \"R338636\"  # https://www.openstreetmap.org/relation/338636"
      ],
      "metadata": {
        "id": "A2eFvhcUKf45"
      },
      "execution_count": null,
      "outputs": []
    },
    {
      "cell_type": "code",
      "source": [
        "territory = ox.geocode_to_gdf([osm_id], by_osmid=True)\n",
        "territory"
      ],
      "metadata": {
        "id": "QiUYs-vXKwmZ"
      },
      "execution_count": null,
      "outputs": []
    },
    {
      "cell_type": "code",
      "source": [
        "#Загрузка слоев с улицами\n",
        "file_url = STREETS_FILE_URL\n",
        "district_streets = ox.geocode_to_gdf(TERRITORY_NAME)\n",
        "district_streets\n"
      ],
      "metadata": {
        "id": "g4jzErB7QiaH"
      },
      "execution_count": null,
      "outputs": []
    },
    {
      "cell_type": "code",
      "source": [
        "district_streets.explore()"
      ],
      "metadata": {
        "id": "i7BAB01HDFqI"
      },
      "execution_count": null,
      "outputs": []
    },
    {
      "cell_type": "code",
      "source": [
        "gdf_street = gpd.read_file(file_url, mask=district_streets)\n",
        "gdf_street.head()"
      ],
      "metadata": {
        "id": "YT_1YTdhL8U3"
      },
      "execution_count": null,
      "outputs": []
    },
    {
      "cell_type": "code",
      "source": [
        "osm_id_street = \"W338636\"  # https://www.openstreetmap.org/relation/338636"
      ],
      "metadata": {
        "id": "r4iwvu1wMabW"
      },
      "execution_count": null,
      "outputs": []
    },
    {
      "cell_type": "markdown",
      "source": [
        "Проверка дубликатов"
      ],
      "metadata": {
        "id": "IP7pbPNNe5e6"
      }
    },
    {
      "cell_type": "code",
      "source": [
        "gdf_street.duplicated().value_counts()"
      ],
      "metadata": {
        "id": "Z7PsH5rcNF0e"
      },
      "execution_count": null,
      "outputs": []
    },
    {
      "cell_type": "markdown",
      "source": [
        "Проверка дубликатов по имени name"
      ],
      "metadata": {
        "id": "Ig3FZrY8iH_o"
      }
    },
    {
      "cell_type": "code",
      "source": [
        "gdf_street.duplicated([\"name\"]).value_counts()"
      ],
      "metadata": {
        "id": "a_gpkCAJlQPx"
      },
      "execution_count": null,
      "outputs": []
    },
    {
      "cell_type": "code",
      "source": [
        "gdf_street.drop_duplicates('name',inplace=True)"
      ],
      "metadata": {
        "id": "as7sbUX4pw6_"
      },
      "execution_count": null,
      "outputs": []
    },
    {
      "cell_type": "code",
      "source": [
        "gdf_street.head()"
      ],
      "metadata": {
        "id": "qSm40NWbrLHG"
      },
      "execution_count": null,
      "outputs": []
    },
    {
      "cell_type": "code",
      "source": [
        "gdf_street.crs"
      ],
      "metadata": {
        "id": "r23qm1-ue_Vh"
      },
      "execution_count": null,
      "outputs": []
    },
    {
      "cell_type": "code",
      "source": [
        "gdf_street.explore(tiles=TILES)"
      ],
      "metadata": {
        "id": "brST3UCDMfHF"
      },
      "execution_count": null,
      "outputs": []
    },
    {
      "cell_type": "code",
      "source": [
        "routes_graph = ox.graph_from_place(TERRITORY_NAME, network_type='all')\n",
        "routes_graph\n"
      ],
      "metadata": {
        "id": "uVTePNdxBvjB"
      },
      "execution_count": null,
      "outputs": []
    },
    {
      "cell_type": "code",
      "source": [
        "roads = ox.graph_to_gdfs(routes_graph, nodes=False)  # узлы в данной задаче не нужны\n",
        "roads.head()"
      ],
      "metadata": {
        "id": "9_THsv4LDCv5"
      },
      "execution_count": null,
      "outputs": []
    },
    {
      "cell_type": "code",
      "source": [
        "#Избавляемся от индекса\n",
        "roads.reset_index(drop=True, inplace=True)\n",
        "roads.head()"
      ],
      "metadata": {
        "id": "i1X1GwiadV77"
      },
      "execution_count": null,
      "outputs": []
    },
    {
      "cell_type": "code",
      "source": [
        "map = KeplerGl(height=500)\n",
        "map.add_data(data=roads.copy(), name=\"Улицы\")  # почему-то метод add_data изменяет геодатафрейм :( будем делать копию\n",
        "\n",
        "map"
      ],
      "metadata": {
        "id": "Z47ts-5hEZzZ"
      },
      "execution_count": null,
      "outputs": []
    },
    {
      "cell_type": "markdown",
      "source": [
        "Объединение геометрий\n"
      ],
      "metadata": {
        "id": "I0TCfw1FFUDP"
      }
    },
    {
      "cell_type": "code",
      "source": [
        "roads[\"name\"] = roads.loc[roads['name'].apply(lambda x: isinstance(x, list)), \"name\"].str.join(\", \")\n",
        "#roads"
      ],
      "metadata": {
        "id": "cOLylcFodCI8"
      },
      "execution_count": null,
      "outputs": []
    },
    {
      "cell_type": "markdown",
      "source": [
        "C помощью метода dissolve сгруппируем геометрии по столбцу name и объединим геометрии в одну\n"
      ],
      "metadata": {
        "id": "vb8KMykAGeOP"
      }
    },
    {
      "cell_type": "code",
      "source": [
        "roads = roads.dissolve(by=\"name\")\n",
        "roads.head()"
      ],
      "metadata": {
        "id": "ob80mrFuGXkn"
      },
      "execution_count": null,
      "outputs": []
    },
    {
      "cell_type": "code",
      "source": [
        "pharmacy = ox.features.features_from_polygon(\n",
        "    territory.unary_union, {\"amenity\": \"pharmacy\"}\n",
        ")\n",
        "pharmacy.head()"
      ],
      "metadata": {
        "id": "JeYWeh04K0FR"
      },
      "execution_count": null,
      "outputs": []
    },
    {
      "cell_type": "code",
      "source": [
        "pharmacy.reset_index(drop=True, inplace=True)\n",
        "pharmacy = pharmacy.loc[:, [\"name\", \"geometry\"]]\n",
        "pharmacy.head()"
      ],
      "metadata": {
        "id": "Fwra8_7EK-ju"
      },
      "execution_count": null,
      "outputs": []
    },
    {
      "cell_type": "code",
      "source": [
        "pharmacy[\"lon\"] = pharmacy.to_crs(3857).geometry.centroid.to_crs(4326).x\n",
        "pharmacy[\"lat\"] = pharmacy.to_crs(3857).geometry.centroid.to_crs(4326).y\n",
        "pharmacy.head()"
      ],
      "metadata": {
        "id": "xIXmYuuwLNjF"
      },
      "execution_count": null,
      "outputs": []
    },
    {
      "cell_type": "code",
      "source": [
        "map = KeplerGl(height=500)\n",
        "map.add_data(data=pharmacy.copy(), name=\"Аптеки\")  # почему-то метод add_data изменяет геодатафрейм :( будем делать копию\n",
        "\n",
        "map"
      ],
      "metadata": {
        "id": "LNJXJctSLXxW"
      },
      "execution_count": null,
      "outputs": []
    },
    {
      "cell_type": "code",
      "source": [
        "map = KeplerGl(height=500)\n",
        "map.add_data(data=roads.copy(), name=\"Улицы\")  # почему-то метод add_data изменяет геодатафрейм :( будем делать копию\n",
        "\n",
        "map"
      ],
      "metadata": {
        "id": "Cr-YsT6NG9iv"
      },
      "execution_count": null,
      "outputs": []
    }
  ]
}